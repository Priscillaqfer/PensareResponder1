{
  "nbformat": 4,
  "nbformat_minor": 0,
  "metadata": {
    "colab": {
      "provenance": [],
      "toc_visible": true,
      "authorship_tag": "ABX9TyPxbOA1qJjArrC4jBvkjgA8",
      "include_colab_link": true
    },
    "kernelspec": {
      "name": "python3",
      "display_name": "Python 3"
    },
    "language_info": {
      "name": "python"
    }
  },
  "cells": [
    {
      "cell_type": "markdown",
      "metadata": {
        "id": "view-in-github",
        "colab_type": "text"
      },
      "source": [
        "<a href=\"https://colab.research.google.com/github/Priscillaqfer/ProjetoDesc/blob/main/Untitled1.ipynb\" target=\"_parent\"><img src=\"https://colab.research.google.com/assets/colab-badge.svg\" alt=\"Open In Colab\"/></a>"
      ]
    },
    {
      "cell_type": "code",
      "execution_count": 1,
      "metadata": {
        "id": "VSeMCswq2VLk"
      },
      "outputs": [],
      "source": [
        "import pandas as pd\n",
        "import numpy as np"
      ]
    },
    {
      "cell_type": "code",
      "source": [
        "#lista com os nomes dos produtos\n",
        "nomes_produtos = ['Camisa Manga Longa', 'Camisa Gola Polo', 'Camiseta Básica', 'Calça Jeans', 'Sapato Social']\n"
      ],
      "metadata": {
        "id": "kyjQFtAS3G7A"
      },
      "execution_count": 6,
      "outputs": []
    },
    {
      "cell_type": "code",
      "source": [
        "#Gerando o dataframe com 1000 linhas\n",
        "\n",
        "df = pd.DataFrame({\n",
        "    'ID Produto': np.random.randint(1 , 11, 1000),\n",
        "    'Nome Produto': np.random.choice(nomes_produtos, 1000),\n",
        "    'Quantidade Vendida': np.random.randint(1, 21, 1000),\n",
        "    'Preço unitario': np.round(np.random.uniform(10 ,100, 1000), 2),\n",
        "    'Data da Venda':np.random.choice(pd.date_range(start = '2021-01-01', end='2021-12-31'), 1000)})"
      ],
      "metadata": {
        "id": "CcAuQ6XK3G2h"
      },
      "execution_count": 9,
      "outputs": []
    },
    {
      "cell_type": "code",
      "source": [
        "# Salvando o dataframe em um arquivo CSV\n",
        "df.to_csv('vendas.csv', index=False)"
      ],
      "metadata": {
        "id": "dOnx7Gg13Gyk"
      },
      "execution_count": 14,
      "outputs": []
    },
    {
      "cell_type": "code",
      "source": [
        "# Carregando o arquivo de vendas\n",
        "df_vendas = pd.read_csv('vendas.csv')"
      ],
      "metadata": {
        "id": "r697aKLY3GtB"
      },
      "execution_count": 15,
      "outputs": []
    },
    {
      "cell_type": "code",
      "source": [
        "# Adicionando coluna de Valor Total\n",
        "df_vendas['Valor Total'] = df_vendas['Quantidade Vendida'] * df_vendas['Preço unitario']"
      ],
      "metadata": {
        "id": "wArDCo1W3Gh5"
      },
      "execution_count": 16,
      "outputs": []
    },
    {
      "cell_type": "code",
      "source": [
        "# Extraindo o Mês da Data da Venda\n",
        "df_vendas['Mês'] = pd.to_datetime(df_vendas['Data da Venda']).dt.month"
      ],
      "metadata": {
        "id": "kGt4_5XA3GSZ"
      },
      "execution_count": 17,
      "outputs": []
    },
    {
      "cell_type": "code",
      "source": [
        "# Agrupando por Mês e Calculando Estatísticas\n",
        "relatorio_mensal = df_vendas.groupby('Mês').agg({\n",
        "    'Quantidade Vendida': 'sum',\n",
        "    'Valor Total': 'sum',\n",
        "    'Preço unitario': 'mean'\n",
        "}).reset_index()"
      ],
      "metadata": {
        "id": "d3psF4gj7lW1"
      },
      "execution_count": 18,
      "outputs": []
    },
    {
      "cell_type": "code",
      "source": [
        "# Adicionando o símbolo \"R$\" às colunas numéricas\n",
        "relatorio_mensal['Valor Total'] = relatorio_mensal['Valor Total'].apply(lambda x: f'R${x:.2f}')\n",
        "relatorio_mensal['Preço unitario'] = relatorio_mensal['Preço unitario'].apply(lambda x: f'R${x:.2f}')"
      ],
      "metadata": {
        "id": "XSHx-PE58Ubm"
      },
      "execution_count": 20,
      "outputs": []
    },
    {
      "cell_type": "code",
      "source": [
        "# Exibindo o Relatório Mensal\n",
        "print(relatorio_mensal)"
      ],
      "metadata": {
        "colab": {
          "base_uri": "https://localhost:8080/"
        },
        "id": "Y46OiCrE7lMB",
        "outputId": "839fadfb-d740-4766-afc1-c09d8144a1ef"
      },
      "execution_count": 21,
      "outputs": [
        {
          "output_type": "stream",
          "name": "stdout",
          "text": [
            "    Mês  Quantidade Vendida Valor Total Preço unitario\n",
            "0     1                 860  R$43718.48        R$56.09\n",
            "1     2                 803  R$41815.38        R$52.94\n",
            "2     3                 935  R$48734.38        R$53.35\n",
            "3     4                 953  R$56151.91        R$58.18\n",
            "4     5                1007  R$57503.00        R$56.96\n",
            "5     6                 979  R$55894.50        R$56.99\n",
            "6     7                 910  R$50773.45        R$56.15\n",
            "7     8                 861  R$46809.26        R$54.84\n",
            "8     9                 823  R$50809.23        R$59.46\n",
            "9    10                 835  R$47578.85        R$58.79\n",
            "10   11                 925  R$52067.22        R$54.33\n",
            "11   12                1088  R$63124.32        R$57.52\n"
          ]
        }
      ]
    }
  ]
}